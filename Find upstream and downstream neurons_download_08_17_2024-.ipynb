{
 "cells": [
  {
   "cell_type": "code",
   "execution_count": 1,
   "id": "3f42692d-3738-4a4d-8a58-d52c34b5bb1e",
   "metadata": {},
   "outputs": [],
   "source": [
    "import pandas as pd\n",
    "import numpy as np\n",
    "import seaborn as sns\n",
    "import os\n",
    "import matplotlib.pyplot as plt\n",
    "from datetime import datetime\n",
    "import seaborn as sns\n",
    "from sklearn.preprocessing import normalize"
   ]
  },
  {
   "cell_type": "code",
   "execution_count": 2,
   "id": "f3c1788b-c4aa-42fc-ab52-e3d7886e4071",
   "metadata": {},
   "outputs": [],
   "source": [
    "import fanc\n",
    "client = fanc.get_caveclient()\n"
   ]
  },
  {
   "cell_type": "code",
   "execution_count": 3,
   "id": "5dcde168-dce6-4775-96fc-e934c5b7e4e3",
   "metadata": {},
   "outputs": [
    {
     "data": {
      "text/plain": [
       "<caveclient.frameworkclient.CAVEclientFull at 0x30a2ce1d0>"
      ]
     },
     "execution_count": 3,
     "metadata": {},
     "output_type": "execute_result"
    }
   ],
   "source": [
    "client"
   ]
  },
  {
   "cell_type": "code",
   "execution_count": 4,
   "id": "515da649-771e-48db-80f9-ea4f6c7fd588",
   "metadata": {},
   "outputs": [
    {
     "data": {
      "text/plain": [
       "1036"
      ]
     },
     "execution_count": 4,
     "metadata": {},
     "output_type": "execute_result"
    }
   ],
   "source": [
    "version_number=client.materialize.version\n",
    "version_number"
   ]
  },
  {
   "cell_type": "code",
   "execution_count": 5,
   "id": "8f896924-801e-4f06-8be7-2c016081fe6c",
   "metadata": {},
   "outputs": [],
   "source": [
    "#available version\n",
    "#client.materialize.get_versions()"
   ]
  },
  {
   "cell_type": "code",
   "execution_count": 6,
   "id": "9d54c414-6be0-471f-bc87-8c61d430c673",
   "metadata": {},
   "outputs": [],
   "source": [
    "#confirm version_number\n",
    "#version_number = 1034"
   ]
  },
  {
   "cell_type": "code",
   "execution_count": 7,
   "id": "55a559e4",
   "metadata": {},
   "outputs": [],
   "source": [
    "#confirm which date version is used.\n",
    "#date = '2024-08-15'"
   ]
  },
  {
   "cell_type": "code",
   "execution_count": 8,
   "id": "191e10a7-2e5c-44f9-8d51-02abd5719b05",
   "metadata": {},
   "outputs": [
    {
     "data": {
      "text/plain": [
       "datetime.date(2024, 8, 17)"
      ]
     },
     "execution_count": 8,
     "metadata": {},
     "output_type": "execute_result"
    }
   ],
   "source": [
    "date=datetime.now().date()\n",
    "date"
   ]
  },
  {
   "cell_type": "code",
   "execution_count": 9,
   "id": "1edb2f6e-a74b-4b73-af78-4f395651c6d2",
   "metadata": {},
   "outputs": [],
   "source": [
    "def post_neurons_2(neuron_a, sc_limit):\n",
    "    \"\"\"\n",
    "    Find downstream neurons of the neuron_a, which has more than 'sc_limit' synapses with neuron_a.\n",
    "\n",
    "        Args: \n",
    "            neuron_a (int) : segment ID # of a neuron of interest.\n",
    "            sc_limit (int) : minimum synaps count for cutting off.\n",
    "\n",
    "        Return: a table of downstream neurons and synaps counts as DataFrame.\"\"\"\n",
    "            \n",
    "    # Get synapse position table of downstream neurons of neuron_a. Each row represents one synaps position.\n",
    "    post_df = client.materialize.synapse_query(pre_ids = neuron_a, materialization_version=version_number)\n",
    "    if len(post_df) == 0:\n",
    "        print('Check if ID# is current or No downstream neurons of ' + str(neuron_a))\n",
    "    \n",
    "    # Choose oly required columns.\n",
    "    post_df2 = post_df[['id','pre_pt_root_id', 'post_pt_root_id']]\n",
    "\n",
    "    # Data type of id#s will be changed from 'int' to 'str' to avoid any problem caused by transformation etc.\n",
    "    post_df2[['id','pre_pt_root_id','post_pt_root_id' ]] = post_df2[['id','pre_pt_root_id','post_pt_root_id' ]].astype('str')\n",
    "\n",
    "    # Transform # of rows to synapse count. Then add these numbers to a new column 'synaps_count' and sort them as descending.\n",
    "    synaps_count = post_df2.groupby('post_pt_root_id').transform(len)['id']\n",
    "    post_df2['synaps_count'] = synaps_count\n",
    "    post_df3 = post_df2.sort_values('synaps_count', ascending=False)\n",
    "\n",
    "    # Make one row represent one downstream neuron. Clean the table by dropping unnecessary columns. \\\n",
    "    # Cut off neurons which have syanpse count fewer than 'sc_limit'.\n",
    "    post_df4 = post_df3.drop_duplicates(subset='post_pt_root_id', keep='first')\n",
    "    post_df5 = post_df4.loc[post_df4['synaps_count'] >= sc_limit].drop (columns = 'id')\n",
    "    \n",
    "    return post_df5\n",
    "    "
   ]
  },
  {
   "cell_type": "code",
   "execution_count": 10,
   "id": "0cc6c59a-995c-420b-a7e4-c5891c2038e5",
   "metadata": {},
   "outputs": [],
   "source": [
    "def pre_neurons(neuron_a, sc_limit):\n",
    "    \"\"\"\n",
    "    Find upstream neurons of the neuron_a, which has more than 'sc_limit' synapses with neuron_a.\n",
    "\n",
    "        Args: \n",
    "            neuron_a (int) : segment ID # of a neuron of interest.\n",
    "            sc_limit (int) : minimum synaps count for cutting off.\n",
    "\n",
    "        Return: a table of upstream neurons and synaps counts as DataFrame.\"\"\"\n",
    "            \n",
    "    # Get synapse position table of upstream neurons of neuron_a. Each row represents one synaps position.\n",
    "    pre_df = client.materialize.synapse_query(post_ids = neuron_a, materialization_version=version_number)\n",
    "    if len(pre_df) == 0:\n",
    "        print('Check if ID# is current or No upstream neurons of ' + str(neuron_a))\n",
    "    \n",
    "    # Choose oly required columns.\n",
    "    pre_df2 = pre_df[['id','pre_pt_root_id', 'post_pt_root_id']]\n",
    "\n",
    "    # Data type of id#s will be changed from 'int' to 'str' to avoid any problem caused by transformation etc.\n",
    "    pre_df2[['id','pre_pt_root_id','post_pt_root_id' ]] = pre_df2[['id','pre_pt_root_id','post_pt_root_id' ]].astype('str')\n",
    "\n",
    "    # Transform # of rows to synapse count. Then add these numbers to a new column 'synaps_count' and sort them as descending.\n",
    "    synaps_count = pre_df2.groupby('pre_pt_root_id').transform(len)['id']\n",
    "    pre_df2['synaps_count'] = synaps_count\n",
    "    pre_df3 = pre_df2.sort_values('synaps_count', ascending=False)\n",
    "\n",
    "    # Make one row represent one downstream neuron. Clean the table by dropping unnecessary columns. \\\n",
    "    # Cut off neurons which have syanpse count fewer than 'sc_limit'.\n",
    "    pre_df4 = pre_df3.drop_duplicates(subset='pre_pt_root_id', keep='first')\n",
    "    pre_df5 = pre_df4.loc[pre_df4['synaps_count'] >= sc_limit].drop (columns = 'id')\n",
    "    \n",
    "    return pre_df5\n",
    "    "
   ]
  },
  {
   "cell_type": "code",
   "execution_count": 11,
   "id": "e50b0fb7-ed41-4a78-a90f-bde016feb423",
   "metadata": {},
   "outputs": [],
   "source": [
    "# set up threashold of synapse count. Only more than this s.c connection is considered to be meaningful connection.\n",
    "sc_limit = 10"
   ]
  },
  {
   "cell_type": "code",
   "execution_count": 12,
   "id": "84a30cec-ff9e-49ce-8f74-f93556f2fdef",
   "metadata": {},
   "outputs": [],
   "source": [
    "neuron_1 =  648518346490605578\n",
    "#IN_011_left"
   ]
  },
  {
   "cell_type": "code",
   "execution_count": 13,
   "id": "dc545fb2-6fd4-4727-aba5-7fd5edc494c3",
   "metadata": {},
   "outputs": [
    {
     "name": "stderr",
     "output_type": "stream",
     "text": [
      "/var/folders/v4/k2t_5z8s4kl_h2zzddp7lvmc0000gn/T/ipykernel_7018/1149706861.py:20: SettingWithCopyWarning: \n",
      "A value is trying to be set on a copy of a slice from a DataFrame.\n",
      "Try using .loc[row_indexer,col_indexer] = value instead\n",
      "\n",
      "See the caveats in the documentation: https://pandas.pydata.org/pandas-docs/stable/user_guide/indexing.html#returning-a-view-versus-a-copy\n",
      "  post_df2[['id','pre_pt_root_id','post_pt_root_id' ]] = post_df2[['id','pre_pt_root_id','post_pt_root_id' ]].astype('str')\n",
      "/var/folders/v4/k2t_5z8s4kl_h2zzddp7lvmc0000gn/T/ipykernel_7018/1149706861.py:24: SettingWithCopyWarning: \n",
      "A value is trying to be set on a copy of a slice from a DataFrame.\n",
      "Try using .loc[row_indexer,col_indexer] = value instead\n",
      "\n",
      "See the caveats in the documentation: https://pandas.pydata.org/pandas-docs/stable/user_guide/indexing.html#returning-a-view-versus-a-copy\n",
      "  post_df2['synaps_count'] = synaps_count\n"
     ]
    },
    {
     "data": {
      "text/html": [
       "<div>\n",
       "<style scoped>\n",
       "    .dataframe tbody tr th:only-of-type {\n",
       "        vertical-align: middle;\n",
       "    }\n",
       "\n",
       "    .dataframe tbody tr th {\n",
       "        vertical-align: top;\n",
       "    }\n",
       "\n",
       "    .dataframe thead th {\n",
       "        text-align: right;\n",
       "    }\n",
       "</style>\n",
       "<table border=\"1\" class=\"dataframe\">\n",
       "  <thead>\n",
       "    <tr style=\"text-align: right;\">\n",
       "      <th></th>\n",
       "      <th>pre_pt_root_id</th>\n",
       "      <th>post_pt_root_id</th>\n",
       "      <th>synaps_count</th>\n",
       "    </tr>\n",
       "  </thead>\n",
       "  <tbody>\n",
       "    <tr>\n",
       "      <th>410</th>\n",
       "      <td>648518346490605578</td>\n",
       "      <td>648518346507449887</td>\n",
       "      <td>193</td>\n",
       "    </tr>\n",
       "    <tr>\n",
       "      <th>8606</th>\n",
       "      <td>648518346490605578</td>\n",
       "      <td>648518346517536554</td>\n",
       "      <td>120</td>\n",
       "    </tr>\n",
       "    <tr>\n",
       "      <th>11254</th>\n",
       "      <td>648518346490605578</td>\n",
       "      <td>648518346514740167</td>\n",
       "      <td>114</td>\n",
       "    </tr>\n",
       "    <tr>\n",
       "      <th>10354</th>\n",
       "      <td>648518346490605578</td>\n",
       "      <td>648518346495874250</td>\n",
       "      <td>105</td>\n",
       "    </tr>\n",
       "    <tr>\n",
       "      <th>564</th>\n",
       "      <td>648518346490605578</td>\n",
       "      <td>648518346475521848</td>\n",
       "      <td>94</td>\n",
       "    </tr>\n",
       "    <tr>\n",
       "      <th>...</th>\n",
       "      <td>...</td>\n",
       "      <td>...</td>\n",
       "      <td>...</td>\n",
       "    </tr>\n",
       "    <tr>\n",
       "      <th>93</th>\n",
       "      <td>648518346490605578</td>\n",
       "      <td>648518346489732460</td>\n",
       "      <td>10</td>\n",
       "    </tr>\n",
       "    <tr>\n",
       "      <th>14783</th>\n",
       "      <td>648518346490605578</td>\n",
       "      <td>648518346491712454</td>\n",
       "      <td>10</td>\n",
       "    </tr>\n",
       "    <tr>\n",
       "      <th>5891</th>\n",
       "      <td>648518346490605578</td>\n",
       "      <td>648518346502051434</td>\n",
       "      <td>10</td>\n",
       "    </tr>\n",
       "    <tr>\n",
       "      <th>10199</th>\n",
       "      <td>648518346490605578</td>\n",
       "      <td>648518346481310095</td>\n",
       "      <td>10</td>\n",
       "    </tr>\n",
       "    <tr>\n",
       "      <th>9064</th>\n",
       "      <td>648518346490605578</td>\n",
       "      <td>648518346481519247</td>\n",
       "      <td>10</td>\n",
       "    </tr>\n",
       "  </tbody>\n",
       "</table>\n",
       "<p>86 rows × 3 columns</p>\n",
       "</div>"
      ],
      "text/plain": [
       "           pre_pt_root_id     post_pt_root_id  synaps_count\n",
       "410    648518346490605578  648518346507449887           193\n",
       "8606   648518346490605578  648518346517536554           120\n",
       "11254  648518346490605578  648518346514740167           114\n",
       "10354  648518346490605578  648518346495874250           105\n",
       "564    648518346490605578  648518346475521848            94\n",
       "...                   ...                 ...           ...\n",
       "93     648518346490605578  648518346489732460            10\n",
       "14783  648518346490605578  648518346491712454            10\n",
       "5891   648518346490605578  648518346502051434            10\n",
       "10199  648518346490605578  648518346481310095            10\n",
       "9064   648518346490605578  648518346481519247            10\n",
       "\n",
       "[86 rows x 3 columns]"
      ]
     },
     "execution_count": 13,
     "metadata": {},
     "output_type": "execute_result"
    }
   ],
   "source": [
    "# Find downstream neurons of neuron_1 using function 'post_neurons_2'.\n",
    "neuron_1_post_df = post_neurons_2(neuron_1,sc_limit )\n",
    "neuron_1_post_df"
   ]
  },
  {
   "cell_type": "code",
   "execution_count": 14,
   "id": "a19f1735-0912-4213-8ccf-5dd7b92471bc",
   "metadata": {},
   "outputs": [
    {
     "name": "stderr",
     "output_type": "stream",
     "text": [
      "/var/folders/v4/k2t_5z8s4kl_h2zzddp7lvmc0000gn/T/ipykernel_7018/3485452882.py:20: SettingWithCopyWarning: \n",
      "A value is trying to be set on a copy of a slice from a DataFrame.\n",
      "Try using .loc[row_indexer,col_indexer] = value instead\n",
      "\n",
      "See the caveats in the documentation: https://pandas.pydata.org/pandas-docs/stable/user_guide/indexing.html#returning-a-view-versus-a-copy\n",
      "  pre_df2[['id','pre_pt_root_id','post_pt_root_id' ]] = pre_df2[['id','pre_pt_root_id','post_pt_root_id' ]].astype('str')\n",
      "/var/folders/v4/k2t_5z8s4kl_h2zzddp7lvmc0000gn/T/ipykernel_7018/3485452882.py:24: SettingWithCopyWarning: \n",
      "A value is trying to be set on a copy of a slice from a DataFrame.\n",
      "Try using .loc[row_indexer,col_indexer] = value instead\n",
      "\n",
      "See the caveats in the documentation: https://pandas.pydata.org/pandas-docs/stable/user_guide/indexing.html#returning-a-view-versus-a-copy\n",
      "  pre_df2['synaps_count'] = synaps_count\n"
     ]
    },
    {
     "data": {
      "text/html": [
       "<div>\n",
       "<style scoped>\n",
       "    .dataframe tbody tr th:only-of-type {\n",
       "        vertical-align: middle;\n",
       "    }\n",
       "\n",
       "    .dataframe tbody tr th {\n",
       "        vertical-align: top;\n",
       "    }\n",
       "\n",
       "    .dataframe thead th {\n",
       "        text-align: right;\n",
       "    }\n",
       "</style>\n",
       "<table border=\"1\" class=\"dataframe\">\n",
       "  <thead>\n",
       "    <tr style=\"text-align: right;\">\n",
       "      <th></th>\n",
       "      <th>pre_pt_root_id</th>\n",
       "      <th>post_pt_root_id</th>\n",
       "      <th>synaps_count</th>\n",
       "    </tr>\n",
       "  </thead>\n",
       "  <tbody>\n",
       "    <tr>\n",
       "      <th>1666</th>\n",
       "      <td>648518346493712270</td>\n",
       "      <td>648518346490605578</td>\n",
       "      <td>382</td>\n",
       "    </tr>\n",
       "    <tr>\n",
       "      <th>929</th>\n",
       "      <td>648518346512848030</td>\n",
       "      <td>648518346490605578</td>\n",
       "      <td>88</td>\n",
       "    </tr>\n",
       "    <tr>\n",
       "      <th>1723</th>\n",
       "      <td>648518346488457609</td>\n",
       "      <td>648518346490605578</td>\n",
       "      <td>70</td>\n",
       "    </tr>\n",
       "    <tr>\n",
       "      <th>2800</th>\n",
       "      <td>648518346490249143</td>\n",
       "      <td>648518346490605578</td>\n",
       "      <td>70</td>\n",
       "    </tr>\n",
       "    <tr>\n",
       "      <th>1257</th>\n",
       "      <td>648518346486928865</td>\n",
       "      <td>648518346490605578</td>\n",
       "      <td>68</td>\n",
       "    </tr>\n",
       "    <tr>\n",
       "      <th>...</th>\n",
       "      <td>...</td>\n",
       "      <td>...</td>\n",
       "      <td>...</td>\n",
       "    </tr>\n",
       "    <tr>\n",
       "      <th>2937</th>\n",
       "      <td>648518346504880243</td>\n",
       "      <td>648518346490605578</td>\n",
       "      <td>10</td>\n",
       "    </tr>\n",
       "    <tr>\n",
       "      <th>1678</th>\n",
       "      <td>648518346472231218</td>\n",
       "      <td>648518346490605578</td>\n",
       "      <td>10</td>\n",
       "    </tr>\n",
       "    <tr>\n",
       "      <th>2297</th>\n",
       "      <td>648518346496495445</td>\n",
       "      <td>648518346490605578</td>\n",
       "      <td>10</td>\n",
       "    </tr>\n",
       "    <tr>\n",
       "      <th>1836</th>\n",
       "      <td>648518346493383154</td>\n",
       "      <td>648518346490605578</td>\n",
       "      <td>10</td>\n",
       "    </tr>\n",
       "    <tr>\n",
       "      <th>2901</th>\n",
       "      <td>648518346499593307</td>\n",
       "      <td>648518346490605578</td>\n",
       "      <td>10</td>\n",
       "    </tr>\n",
       "  </tbody>\n",
       "</table>\n",
       "<p>68 rows × 3 columns</p>\n",
       "</div>"
      ],
      "text/plain": [
       "          pre_pt_root_id     post_pt_root_id  synaps_count\n",
       "1666  648518346493712270  648518346490605578           382\n",
       "929   648518346512848030  648518346490605578            88\n",
       "1723  648518346488457609  648518346490605578            70\n",
       "2800  648518346490249143  648518346490605578            70\n",
       "1257  648518346486928865  648518346490605578            68\n",
       "...                  ...                 ...           ...\n",
       "2937  648518346504880243  648518346490605578            10\n",
       "1678  648518346472231218  648518346490605578            10\n",
       "2297  648518346496495445  648518346490605578            10\n",
       "1836  648518346493383154  648518346490605578            10\n",
       "2901  648518346499593307  648518346490605578            10\n",
       "\n",
       "[68 rows x 3 columns]"
      ]
     },
     "execution_count": 14,
     "metadata": {},
     "output_type": "execute_result"
    }
   ],
   "source": [
    "#Find downstream neurons of neuron_1 using function 'pre_neurons'.\n",
    "neuron_1_pre_df= pre_neurons(neuron_1,sc_limit)\n",
    "neuron_1_pre_df"
   ]
  },
  {
   "cell_type": "code",
   "execution_count": 15,
   "id": "b7786915-745f-4aaf-a9d6-b44d112dbf8e",
   "metadata": {},
   "outputs": [
    {
     "data": {
      "text/html": [
       "<div>\n",
       "<style scoped>\n",
       "    .dataframe tbody tr th:only-of-type {\n",
       "        vertical-align: middle;\n",
       "    }\n",
       "\n",
       "    .dataframe tbody tr th {\n",
       "        vertical-align: top;\n",
       "    }\n",
       "\n",
       "    .dataframe thead th {\n",
       "        text-align: right;\n",
       "    }\n",
       "</style>\n",
       "<table border=\"1\" class=\"dataframe\">\n",
       "  <thead>\n",
       "    <tr style=\"text-align: right;\">\n",
       "      <th></th>\n",
       "      <th>pre_pt_root_id</th>\n",
       "      <th>post_pt_root_id</th>\n",
       "      <th>synaps_count</th>\n",
       "    </tr>\n",
       "  </thead>\n",
       "  <tbody>\n",
       "    <tr>\n",
       "      <th>410</th>\n",
       "      <td>648518346490605578</td>\n",
       "      <td>648518346507449887</td>\n",
       "      <td>193</td>\n",
       "    </tr>\n",
       "    <tr>\n",
       "      <th>8606</th>\n",
       "      <td>648518346490605578</td>\n",
       "      <td>648518346517536554</td>\n",
       "      <td>120</td>\n",
       "    </tr>\n",
       "    <tr>\n",
       "      <th>11254</th>\n",
       "      <td>648518346490605578</td>\n",
       "      <td>648518346514740167</td>\n",
       "      <td>114</td>\n",
       "    </tr>\n",
       "    <tr>\n",
       "      <th>10354</th>\n",
       "      <td>648518346490605578</td>\n",
       "      <td>648518346495874250</td>\n",
       "      <td>105</td>\n",
       "    </tr>\n",
       "  </tbody>\n",
       "</table>\n",
       "</div>"
      ],
      "text/plain": [
       "           pre_pt_root_id     post_pt_root_id  synaps_count\n",
       "410    648518346490605578  648518346507449887           193\n",
       "8606   648518346490605578  648518346517536554           120\n",
       "11254  648518346490605578  648518346514740167           114\n",
       "10354  648518346490605578  648518346495874250           105"
      ]
     },
     "execution_count": 15,
     "metadata": {},
     "output_type": "execute_result"
    }
   ],
   "source": [
    "# select downstream neurons of neuron_1 , which connects with synaps_cout >= 100.\n",
    "neuron_1_post_sc100_df = neuron_1_post_df.loc[neuron_1_post_df['synaps_count'] >= 100]\n",
    "neuron_1_post_sc100_df"
   ]
  },
  {
   "cell_type": "code",
   "execution_count": 16,
   "id": "eb1d5f7a-5e29-4619-be81-e81b36148ef7",
   "metadata": {},
   "outputs": [
    {
     "data": {
      "text/plain": [
       "<PandasArray>\n",
       "[648518346507449887, 648518346517536554, 648518346514740167,\n",
       " 648518346495874250]\n",
       "Length: 4, dtype: int64"
      ]
     },
     "execution_count": 16,
     "metadata": {},
     "output_type": "execute_result"
    }
   ],
   "source": [
    "# convert pandas Series to \"array\" format to be able to use for looping.\n",
    "post_segids = neuron_1_post_sc100_df['post_pt_root_id'].astype(np.int64).array\n",
    "post_segids"
   ]
  },
  {
   "cell_type": "code",
   "execution_count": 57,
   "id": "ad727469-8a71-4629-98b1-81ed8d4d1f55",
   "metadata": {},
   "outputs": [
    {
     "name": "stderr",
     "output_type": "stream",
     "text": [
      "/var/folders/v4/k2t_5z8s4kl_h2zzddp7lvmc0000gn/T/ipykernel_7018/1149706861.py:20: SettingWithCopyWarning: \n",
      "A value is trying to be set on a copy of a slice from a DataFrame.\n",
      "Try using .loc[row_indexer,col_indexer] = value instead\n",
      "\n",
      "See the caveats in the documentation: https://pandas.pydata.org/pandas-docs/stable/user_guide/indexing.html#returning-a-view-versus-a-copy\n",
      "  post_df2[['id','pre_pt_root_id','post_pt_root_id' ]] = post_df2[['id','pre_pt_root_id','post_pt_root_id' ]].astype('str')\n",
      "/var/folders/v4/k2t_5z8s4kl_h2zzddp7lvmc0000gn/T/ipykernel_7018/1149706861.py:24: SettingWithCopyWarning: \n",
      "A value is trying to be set on a copy of a slice from a DataFrame.\n",
      "Try using .loc[row_indexer,col_indexer] = value instead\n",
      "\n",
      "See the caveats in the documentation: https://pandas.pydata.org/pandas-docs/stable/user_guide/indexing.html#returning-a-view-versus-a-copy\n",
      "  post_df2['synaps_count'] = synaps_count\n",
      "/var/folders/v4/k2t_5z8s4kl_h2zzddp7lvmc0000gn/T/ipykernel_7018/1149706861.py:20: SettingWithCopyWarning: \n",
      "A value is trying to be set on a copy of a slice from a DataFrame.\n",
      "Try using .loc[row_indexer,col_indexer] = value instead\n",
      "\n",
      "See the caveats in the documentation: https://pandas.pydata.org/pandas-docs/stable/user_guide/indexing.html#returning-a-view-versus-a-copy\n",
      "  post_df2[['id','pre_pt_root_id','post_pt_root_id' ]] = post_df2[['id','pre_pt_root_id','post_pt_root_id' ]].astype('str')\n",
      "/var/folders/v4/k2t_5z8s4kl_h2zzddp7lvmc0000gn/T/ipykernel_7018/1149706861.py:24: SettingWithCopyWarning: \n",
      "A value is trying to be set on a copy of a slice from a DataFrame.\n",
      "Try using .loc[row_indexer,col_indexer] = value instead\n",
      "\n",
      "See the caveats in the documentation: https://pandas.pydata.org/pandas-docs/stable/user_guide/indexing.html#returning-a-view-versus-a-copy\n",
      "  post_df2['synaps_count'] = synaps_count\n",
      "/var/folders/v4/k2t_5z8s4kl_h2zzddp7lvmc0000gn/T/ipykernel_7018/1149706861.py:20: SettingWithCopyWarning: \n",
      "A value is trying to be set on a copy of a slice from a DataFrame.\n",
      "Try using .loc[row_indexer,col_indexer] = value instead\n",
      "\n",
      "See the caveats in the documentation: https://pandas.pydata.org/pandas-docs/stable/user_guide/indexing.html#returning-a-view-versus-a-copy\n",
      "  post_df2[['id','pre_pt_root_id','post_pt_root_id' ]] = post_df2[['id','pre_pt_root_id','post_pt_root_id' ]].astype('str')\n",
      "/var/folders/v4/k2t_5z8s4kl_h2zzddp7lvmc0000gn/T/ipykernel_7018/1149706861.py:24: SettingWithCopyWarning: \n",
      "A value is trying to be set on a copy of a slice from a DataFrame.\n",
      "Try using .loc[row_indexer,col_indexer] = value instead\n",
      "\n",
      "See the caveats in the documentation: https://pandas.pydata.org/pandas-docs/stable/user_guide/indexing.html#returning-a-view-versus-a-copy\n",
      "  post_df2['synaps_count'] = synaps_count\n",
      "/var/folders/v4/k2t_5z8s4kl_h2zzddp7lvmc0000gn/T/ipykernel_7018/1149706861.py:20: SettingWithCopyWarning: \n",
      "A value is trying to be set on a copy of a slice from a DataFrame.\n",
      "Try using .loc[row_indexer,col_indexer] = value instead\n",
      "\n",
      "See the caveats in the documentation: https://pandas.pydata.org/pandas-docs/stable/user_guide/indexing.html#returning-a-view-versus-a-copy\n",
      "  post_df2[['id','pre_pt_root_id','post_pt_root_id' ]] = post_df2[['id','pre_pt_root_id','post_pt_root_id' ]].astype('str')\n",
      "/var/folders/v4/k2t_5z8s4kl_h2zzddp7lvmc0000gn/T/ipykernel_7018/1149706861.py:24: SettingWithCopyWarning: \n",
      "A value is trying to be set on a copy of a slice from a DataFrame.\n",
      "Try using .loc[row_indexer,col_indexer] = value instead\n",
      "\n",
      "See the caveats in the documentation: https://pandas.pydata.org/pandas-docs/stable/user_guide/indexing.html#returning-a-view-versus-a-copy\n",
      "  post_df2['synaps_count'] = synaps_count\n"
     ]
    }
   ],
   "source": [
    "# find downstream neurons in above \"array\" ('648518346507449887, 648518346517536554, 648518346514740167 etc) automatically by \"for loop\".\n",
    "#download downstream neurons dataframe automatically as \"csv\" in your \"Downloads\" folder as name 'Downstream Neurons of\".....\n",
    "for neuron in post_segids: \n",
    "    df = post_neurons_2(neuron, sc_limit)\n",
    "    name = '~/Downloads/Downstream Neurons of'+ '_segid='+str(neuron)+'_sc>='+str(sc_limit)+'_v#='+ str(version_number)+'_'\\\n",
    "    + str(date)+'.csv'\n",
    "    df.to_csv(name)"
   ]
  },
  {
   "cell_type": "code",
   "execution_count": null,
   "id": "f74964ed-8f4f-4c18-b28a-aae61351c206",
   "metadata": {},
   "outputs": [],
   "source": []
  }
 ],
 "metadata": {
  "kernelspec": {
   "display_name": "Python 3 (ipykernel)",
   "language": "python",
   "name": "python3"
  },
  "language_info": {
   "codemirror_mode": {
    "name": "ipython",
    "version": 3
   },
   "file_extension": ".py",
   "mimetype": "text/x-python",
   "name": "python",
   "nbconvert_exporter": "python",
   "pygments_lexer": "ipython3",
   "version": "3.11.5"
  }
 },
 "nbformat": 4,
 "nbformat_minor": 5
}
